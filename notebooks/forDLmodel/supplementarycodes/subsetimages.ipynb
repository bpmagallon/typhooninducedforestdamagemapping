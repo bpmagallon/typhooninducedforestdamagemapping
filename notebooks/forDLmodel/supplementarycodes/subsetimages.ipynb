{
 "cells": [
  {
   "cell_type": "code",
   "execution_count": 12,
   "id": "f6c9d0b5-6115-4541-9d1d-bd625fd1ae3a",
   "metadata": {},
   "outputs": [],
   "source": [
    "import cv2\n",
    "import math\n",
    "import glob\n",
    "from PIL import Image"
   ]
  },
  {
   "cell_type": "code",
   "execution_count": 17,
   "id": "4d9b8a7e",
   "metadata": {},
   "outputs": [
    {
     "name": "stdout",
     "output_type": "stream",
     "text": [
      "sat\n"
     ]
    }
   ],
   "source": [
    "#import images\n",
    "images = []\n",
    "\n",
    "for image_path in glob.iglob('E:\\\\Data\\\\DamageSeverity\\\\Data\\\\withNIR\\\\nocorrection' + '**\\\\*.tif', recursive=True):\n",
    "    images.append(image_path)\n",
    "\n",
    "#save directory\n",
    "folder = \"E:\\\\Data\\\\DamageSeverity\\\\Data\\\\50overlap\\\\withNIR\\\\nocorrection\\\\\"\n",
    "img_id = images[0].split(\"\\\\\")[-1].split(\"_\")\n",
    "img_suffix = img_id[-1].split(\".tif\")[0]\n",
    "img_id = \"_\".join(img_id[:-1])"
   ]
  },
  {
   "cell_type": "code",
   "execution_count": 18,
   "id": "8aac8de3",
   "metadata": {},
   "outputs": [
    {
     "name": "stdout",
     "output_type": "stream",
     "text": [
      "Albuera_1\n",
      "Albuera_2\n",
      "Baybay_1\n",
      "Baybay_2\n",
      "Baybay2_1\n",
      "Baybay2_2\n",
      "Hilongos_1\n",
      "Hindang_1\n",
      "Hindang_2_2\n",
      "Hindang_2\n",
      "Isabel_1\n",
      "Isabel_2\n",
      "Kananga_1\n",
      "Maasin_1\n",
      "Kananga_1\n",
      "Maasin_1\n",
      "Albuera_1\n",
      "Albuera_2\n",
      "Baybay_1\n",
      "Baybay_2\n",
      "Baybay2_1\n",
      "Baybay2_2\n",
      "Hilongos_1\n",
      "Hindang_1\n",
      "Hindang_2_2\n",
      "Hindang_2\n",
      "Isabel_1\n",
      "Isabel_2\n"
     ]
    }
   ],
   "source": [
    "#open metadata\n",
    "f = open(metadata, \"w\")\n",
    "f.write(\"image_id,split,sat_image_path,mask_path\\n\")\n",
    "\n",
    "\n",
    "for image in images:\n",
    "     \n",
    "    #image id\n",
    "    img_id = image.split(\"\\\\\")[-1].split(\"_\")\n",
    "    img_suffix = img_id[-1].split(\".tif\")[0]\n",
    "    img_id = \"_\".join(img_id[:-1])\n",
    "    \n",
    "    img = Image.open(image)\n",
    "    height, width = img.size[0:2]\n",
    "    \n",
    "\n",
    "    y_loop = math.ceil(height/280)\n",
    "    x_loop = math.ceil(width/280)\n",
    "    \n",
    "    #starting point\n",
    "    x = 0\n",
    "    y = 0\n",
    "         \n",
    "    for row in range(y_loop):\n",
    "        for col in range(x_loop):          \n",
    "                        \n",
    "            #box = (left, Upper, Right, Lower)\n",
    "            img_crop = img.crop((x,y,x+512,y+512))\n",
    "            img_crop.save(folder+img_id+\"_\"+str(row)+\"_\"+str(col)+\"_\"+img_suffix+\".tif\")\n",
    "            \n",
    "            #build metadata\n",
    "            if img_suffix != \"mask\":\n",
    "                f.write(img_id+\",\"\n",
    "                        +\"train,\"\n",
    "                        +\"nocorrection/\"+img_id+\"_\"+str(row)+\"_\"+str(col)+\"_\"+img_suffix+\".tif\"+\",\"\n",
    "                        +\"nocorrection/\"+img_id+\"_\"+str(row)+\"_\"+str(col)+\"_\"+\"mask.tif\\n\")\n",
    "            \n",
    "            x+=280\n",
    "        y+=280\n",
    "        x=0\n",
    "    \n",
    "    img.close()\n",
    "f.close()"
   ]
  },
  {
   "cell_type": "code",
   "execution_count": null,
   "id": "eb63ea7e",
   "metadata": {},
   "outputs": [],
   "source": []
  }
 ],
 "metadata": {
  "kernelspec": {
   "display_name": "Python 3 (ipykernel)",
   "language": "python",
   "name": "python3"
  },
  "language_info": {
   "codemirror_mode": {
    "name": "ipython",
    "version": 3
   },
   "file_extension": ".py",
   "mimetype": "text/x-python",
   "name": "python",
   "nbconvert_exporter": "python",
   "pygments_lexer": "ipython3",
   "version": "3.7.1"
  }
 },
 "nbformat": 4,
 "nbformat_minor": 5
}
