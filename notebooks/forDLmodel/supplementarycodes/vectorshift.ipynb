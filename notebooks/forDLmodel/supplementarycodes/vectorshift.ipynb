{
 "cells": [
  {
   "cell_type": "code",
   "execution_count": null,
   "id": "2fa2239b",
   "metadata": {},
   "outputs": [],
   "source": [
    "from arosics import COREG_LOCAL"
   ]
  },
  {
   "cell_type": "code",
   "execution_count": null,
   "id": "fcd8f59e",
   "metadata": {},
   "outputs": [],
   "source": [
    "im_reference = ref_img\n",
    "im_target    = tgt_img\n",
    "\n",
    "kwargs = {\n",
    "    'grid_res'     : 10,\n",
    "    'window_size'  : (256, 256),\n",
    "    'path_out'     : out,\n",
    "    'projectDir'   : proj_path,\n",
    "    'q'            : False,\n",
    "    'min_reliability' : 0,\n",
    "}"
   ]
  },
  {
   "cell_type": "code",
   "execution_count": null,
   "id": "61ef4e80",
   "metadata": {},
   "outputs": [],
   "source": [
    "CRL = COREG_LOCAL(im_reference,im_target,**kwargs)"
   ]
  },
  {
   "cell_type": "code",
   "execution_count": null,
   "id": "fa263df3",
   "metadata": {},
   "outputs": [],
   "source": [
    "CRL.correct_shifts()"
   ]
  },
  {
   "cell_type": "code",
   "execution_count": null,
   "id": "14c21a72",
   "metadata": {},
   "outputs": [],
   "source": [
    "CRL.view_CoRegPoints(figsize=(15,15), backgroundIm='tgt', savefigPath=img_path)"
   ]
  }
 ],
 "metadata": {
  "kernelspec": {
   "display_name": "Python 3 (ipykernel)",
   "language": "python",
   "name": "python3"
  },
  "language_info": {
   "codemirror_mode": {
    "name": "ipython",
    "version": 3
   },
   "file_extension": ".py",
   "mimetype": "text/x-python",
   "name": "python",
   "nbconvert_exporter": "python",
   "pygments_lexer": "ipython3",
   "version": "3.7.1"
  }
 },
 "nbformat": 4,
 "nbformat_minor": 5
}
