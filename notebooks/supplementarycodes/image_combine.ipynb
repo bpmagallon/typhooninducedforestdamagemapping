{
 "cells": [
  {
   "cell_type": "code",
   "execution_count": 101,
   "id": "f6ed5ebc",
   "metadata": {},
   "outputs": [],
   "source": [
    "from PIL import Image, ImageOps\n",
    "import os\n",
    "import glob"
   ]
  },
  {
   "cell_type": "code",
   "execution_count": 102,
   "id": "e69a77ed",
   "metadata": {},
   "outputs": [
    {
     "name": "stdout",
     "output_type": "stream",
     "text": [
      "C:\\Users\\bpmag\\OneDrive\\Documents\\Todai\\Lab\\Thesis\\masks\\efficientnet\\kaggle\\working\\img_folder\\img0.png\n",
      "[6, 6]\n"
     ]
    }
   ],
   "source": [
    "#import images\n",
    "data_folder = \"C:\\\\Users\\\\bpmag\\\\OneDrive\\\\Documents\\\\Todai\\\\Lab\\\\Thesis\\\\masks\\\\efficientnet\\\\kaggle\\\\working\\\\img_folder\"\n",
    "dimension = \n",
    "real_dim = \n",
    "\n",
    "#set output folder\n",
    "output_folder = \n",
    "\n",
    "images = []\n",
    "\n",
    "for image_path in glob.iglob(data_folder + '**\\\\*.png', recursive=True):\n",
    "    images.append(image_path)\n",
    "    \n",
    "print(images[0])\n",
    "print(dimension[0])"
   ]
  },
  {
   "cell_type": "code",
   "execution_count": 103,
   "id": "f29dc990",
   "metadata": {},
   "outputs": [],
   "source": [
    "def add_margin(pil_img, top, right, bottom, left, color):\n",
    "    width, height = pil_img.size\n",
    "    new_width = width + right + left\n",
    "    new_height = height + top + bottom\n",
    "    result = Image.new(pil_img.mode, (new_width, new_height), color)\n",
    "    result.paste(pil_img, (left, top))\n",
    "    return result"
   ]
  },
  {
   "cell_type": "code",
   "execution_count": 104,
   "id": "251ddd0b",
   "metadata": {},
   "outputs": [],
   "source": [
    "for image in range(len(images)):\n",
    "    \n",
    "    im = Image.open(data_folder+'\\\\img'+str(image)+'.png')\n",
    "    im_flip = ImageOps.mirror(im)\n",
    "    im_flip = im_flip.rotate(90)\n",
    "    im_flip.save(output_folder+'\\\\img'+str(image)+'.png')\n",
    "    im.close()"
   ]
  },
  {
   "cell_type": "code",
   "execution_count": 105,
   "id": "4bb36567",
   "metadata": {},
   "outputs": [],
   "source": [
    "#stitch subsetted images\n",
    "data_folder = \n",
    "output_folder = \n",
    "#first loop - get per scene\n",
    "index = 0\n",
    "idx = 0\n",
    "x = 0\n",
    "y = 0\n",
    "\n",
    "for dim in dimension:\n",
    "    cols = dim[1]+1\n",
    "    rows = dim[0]+1\n",
    "    \n",
    "    margin = real_dim[idx]\n",
    "    \n",
    "    im = Image.open(data_folder+'\\\\img'+str(index)+\".png\")\n",
    "    im_new = add_margin(im, 0, margin[1]-512, margin[0]-512, 0, (0, 0, 0))\n",
    "    #im_new.save(output_folder+'/trial_flip.png')\n",
    "    im.close()\n",
    "    \n",
    "    #break\n",
    "    \n",
    "    for row in range(rows):\n",
    "        for col in range(cols):\n",
    "            \n",
    "            im = Image.open(data_folder+'\\\\img'+str(index)+\".png\")\n",
    "            im_new.paste(im, (x, y))\n",
    "            im.close()\n",
    "            index+=1\n",
    "            x+=280\n",
    "        y+=280\n",
    "        x=0\n",
    "    im_new.save(output_folder+'\\\\img'+str(index)+\".png\")\n",
    "    \n",
    "    y = 0\n",
    "    x = 0\n",
    "    idx+=1"
   ]
  },
  {
   "cell_type": "code",
   "execution_count": null,
   "id": "a1cd5e31",
   "metadata": {},
   "outputs": [],
   "source": []
  }
 ],
 "metadata": {
  "kernelspec": {
   "display_name": "Python 3 (ipykernel)",
   "language": "python",
   "name": "python3"
  },
  "language_info": {
   "codemirror_mode": {
    "name": "ipython",
    "version": 3
   },
   "file_extension": ".py",
   "mimetype": "text/x-python",
   "name": "python",
   "nbconvert_exporter": "python",
   "pygments_lexer": "ipython3",
   "version": "3.7.1"
  }
 },
 "nbformat": 4,
 "nbformat_minor": 5
}
