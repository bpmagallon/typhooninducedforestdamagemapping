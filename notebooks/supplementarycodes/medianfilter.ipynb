{
 "cells": [
  {
   "cell_type": "code",
   "execution_count": 1,
   "id": "64d4fa1f-1207-4487-8fb7-3b851947df0a",
   "metadata": {},
   "outputs": [],
   "source": [
    "from PIL import Image, ImageFilter  "
   ]
  },
  {
   "cell_type": "code",
   "execution_count": 6,
   "id": "1649d7af-6141-4c87-9326-ea309af30b7a",
   "metadata": {},
   "outputs": [],
   "source": [
    "#set window depending on geolocation error\n",
    "window = 7\n",
    "\n",
    "# creating a image object  \n",
    "im1 = Image.open(in)  \n",
    "     \n",
    "# applying the median filter  \n",
    "im2 = im1.filter(ImageFilter.MedianFilter(size = window))  \n",
    "     \n",
    "im2.save(out)"
   ]
  },
  {
   "cell_type": "code",
   "execution_count": null,
   "id": "8b3310b9-22c3-436a-967b-19da9b900ee9",
   "metadata": {},
   "outputs": [],
   "source": []
  }
 ],
 "metadata": {
  "kernelspec": {
   "display_name": "Python 3 (ipykernel)",
   "language": "python",
   "name": "python3"
  },
  "language_info": {
   "codemirror_mode": {
    "name": "ipython",
    "version": 3
   },
   "file_extension": ".py",
   "mimetype": "text/x-python",
   "name": "python",
   "nbconvert_exporter": "python",
   "pygments_lexer": "ipython3",
   "version": "3.7.1"
  }
 },
 "nbformat": 4,
 "nbformat_minor": 5
}
