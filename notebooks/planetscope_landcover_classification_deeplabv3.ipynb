{
  "metadata": {
    "kernelspec": {
      "language": "python",
      "display_name": "Python 3",
      "name": "python3"
    },
    "language_info": {
      "pygments_lexer": "ipython3",
      "nbconvert_exporter": "python",
      "version": "3.6.4",
      "file_extension": ".py",
      "codemirror_mode": {
        "name": "ipython",
        "version": 3
      },
      "name": "python",
      "mimetype": "text/x-python"
    },
    "colab": {
      "provenance": []
    }
  },
  "nbformat_minor": 0,
  "nbformat": 4,
  "cells": [
    {
      "cell_type": "markdown",
      "source": [
        "# **PlanetScope LandCover classification using DeepLab v3+**"
      ],
      "metadata": {
        "id": "I9KOhbnoYpHS"
      }
    },
    {
      "cell_type": "code",
      "source": [
        "!pip install -q git+https://github.com/PyTorchLightning/pytorch-lightning\n",
        "!pip install -q git+https://github.com/qubvel/segmentation_models.pytorch\n",
        "!pip install -q git+https://github.com/albumentations-team/albumentations\n",
        "!pip install -q torchinfo"
      ],
      "metadata": {
        "trusted": true,
        "id": "hn7TeWRiYpHT"
      },
      "outputs": [],
      "execution_count": null
    },
    {
      "cell_type": "code",
      "source": [
        "import os\n",
        "import cv2\n",
        "import torch\n",
        "import numpy as np\n",
        "import pandas as pd\n",
        "import matplotlib.pyplot as plt\n",
        "\n",
        "import pytorch_lightning as pl\n",
        "from torch import nn\n",
        "from tqdm.notebook import tqdm"
      ],
      "metadata": {
        "trusted": true,
        "id": "SsEYRYqcYpHU"
      },
      "outputs": [],
      "execution_count": null
    },
    {
      "cell_type": "markdown",
      "source": [
        "# Extracting the data"
      ],
      "metadata": {
        "id": "z0pSPPBbYpHU"
      }
    },
    {
      "cell_type": "code",
      "source": [
        "IMAGE_SIZE = 512\n",
        "BATCH_SIZE = 3\n",
        "EPOCHS = 100\n",
        "\n",
        "color_dict = pd.read_csv('../input/nocorrectionimages/class_dict.csv')\n",
        "CLASSES = color_dict['name']\n",
        "print(color_dict)"
      ],
      "metadata": {
        "trusted": true,
        "jupyter": {
          "source_hidden": true
        },
        "id": "z6Wmg7D0YpHU"
      },
      "outputs": [],
      "execution_count": null
    },
    {
      "cell_type": "code",
      "source": [
        "class_dict = pd.read_csv('../input/nocorrectionimages/class_dict.csv')\n",
        "# Get class names\n",
        "class_names = class_dict['name'].tolist()\n",
        "# Get class RGB values\n",
        "class_rgb_values = class_dict[['r','g','b']].values.tolist()\n",
        "\n",
        "print('All dataset classes and their corresponding RGB values in labels:')\n",
        "print('Class Names: ', class_names)\n",
        "print('Class RGB values: ', class_rgb_values)"
      ],
      "metadata": {
        "trusted": true,
        "id": "fnrTVFMTYpHU"
      },
      "outputs": [],
      "execution_count": null
    },
    {
      "cell_type": "code",
      "source": [
        "from glob import glob\n",
        "from sklearn.utils import shuffle\n",
        "\n",
        "pd_dataset = pd.DataFrame({\n",
        "    'IMAGES': sorted(glob(\"../input/nocorrectionimages/nocorrection/*_sat.tif\")),\n",
        "    'MASKS': sorted(glob(\"../input/nocorrectionimages/nocorrection/*_mask.tif\"))\n",
        "})\n",
        "pd_unshuffle = pd_dataset\n",
        "pd_dataset = shuffle(pd_dataset)\n",
        "pd_dataset.reset_index(inplace=True, drop=True)\n",
        "pd_dataset.head()"
      ],
      "metadata": {
        "trusted": true,
        "id": "k3Lxa1t6YpHU"
      },
      "outputs": [],
      "execution_count": null
    },
    {
      "cell_type": "code",
      "source": [
        "from sklearn.model_selection import train_test_split\n",
        "\n",
        "pd_train, pd_test = train_test_split(pd_dataset, test_size=0.2, random_state=0)\n",
        "pd_train, pd_val = train_test_split(pd_train, test_size=0.2, random_state=0)\n",
        "\n",
        "print(\"Training set size:\", len(pd_train))\n",
        "print(\"Validation set size:\", len(pd_val))\n",
        "print(\"Testing set size:\", len(pd_test))\n",
        "\n",
        "pd_val.head()"
      ],
      "metadata": {
        "trusted": true,
        "id": "YaWdbQ4KYpHU"
      },
      "outputs": [],
      "execution_count": null
    },
    {
      "cell_type": "markdown",
      "source": [
        "# View sample data"
      ],
      "metadata": {
        "id": "knGp4qhDYpHU"
      }
    },
    {
      "cell_type": "code",
      "source": [
        "index = 6\n",
        "\n",
        "sample_img = cv2.imread(pd_train.iloc[index].IMAGES)\n",
        "sample_img = cv2.cvtColor(sample_img, cv2.COLOR_BGR2RGB)\n",
        "\n",
        "sample_msk = cv2.imread(pd_train.iloc[index].MASKS)\n",
        "sample_msk = cv2.cvtColor(sample_msk, cv2.COLOR_BGR2RGB)\n",
        "\n",
        "#print(sample_msk)\n",
        "\n",
        "\n",
        "fig, (ax1, ax2) = plt.subplots(1, 2, figsize=(16, 10))\n",
        "\n",
        "ax1.set_title('IMAGE')\n",
        "ax1.imshow(sample_img)\n",
        "\n",
        "ax2.set_title('MASK')\n",
        "ax2.imshow(sample_msk)"
      ],
      "metadata": {
        "trusted": true,
        "id": "OY9L_qMMYpHV"
      },
      "outputs": [],
      "execution_count": null
    },
    {
      "cell_type": "markdown",
      "source": [
        "# Utility functions"
      ],
      "metadata": {
        "id": "jqnTgLp9YpHV"
      }
    },
    {
      "cell_type": "code",
      "source": [
        "def rgb2category(rgb_mask):\n",
        "    category_mask = np.zeros(rgb_mask.shape[:2], dtype=np.int8)\n",
        "    for i, row in color_dict.iterrows():\n",
        "        category_mask += (np.all(rgb_mask.reshape((-1, 3)) == (row['r'], row['g'], row['b']), axis=1).reshape(rgb_mask.shape[:2]) * i)\n",
        "    return category_mask\n",
        "\n",
        "def category2rgb(category_mask):\n",
        "    rgb_mask = np.zeros(category_mask.shape[:2] + (3,))\n",
        "    for i, row in color_dict.iterrows():\n",
        "        rgb_mask[category_mask==i] = (row['r'], row['g'], row['b'])\n",
        "    return np.uint8(rgb_mask)\n",
        "\n",
        "def visualize(**images):\n",
        "    \"\"\"\n",
        "    Plot images in one row\n",
        "    \"\"\"\n",
        "    n_images = len(images)\n",
        "    plt.figure(figsize=(20,8))\n",
        "    for idx, (name, image) in enumerate(images.items()):\n",
        "        plt.subplot(1, n_images, idx + 1)\n",
        "        plt.xticks([]);\n",
        "        plt.yticks([])\n",
        "        # get title from the parameter names\n",
        "        plt.title(name.replace('_',' ').title(), fontsize=20)\n",
        "\n",
        "        plt.imshow(image.T)\n",
        "    plt.show()\n",
        "\n",
        "\n",
        "def reverse_one_hot(image):\n",
        "    \"\"\"\n",
        "    Transform a 2D array in one-hot format (depth is num_classes),\n",
        "    to a 2D array with only 1 channel, where each pixel value is\n",
        "    the classified class key.\n",
        "    # Arguments\n",
        "        image: The one-hot format image\n",
        "\n",
        "    # Returns\n",
        "        A 2D array with the same width and hieght as the input, but\n",
        "        with a depth size of 1, where each pixel value is the classified\n",
        "        class key.\n",
        "    \"\"\"\n",
        "    x = np.argmax(image, axis = -1)\n",
        "    return x\n",
        "\n",
        "def colour_code_segmentation(image, label_values):\n",
        "    \"\"\"\n",
        "    Given a 1-channel array of class keys, colour code the segmentation results.\n",
        "    # Arguments\n",
        "        image: single channel array where each value represents the class key.\n",
        "        label_values\n",
        "\n",
        "    # Returns\n",
        "        Colour coded image for segmentation visualization\n",
        "    \"\"\"\n",
        "    colour_codes = np.array(label_values)\n",
        "    x = colour_codes[image.astype(int)]\n",
        "\n",
        "    return x"
      ],
      "metadata": {
        "trusted": true,
        "id": "YW9oaABcYpHV"
      },
      "outputs": [],
      "execution_count": null
    },
    {
      "cell_type": "markdown",
      "source": [
        "# Data Augmentations and Transformations"
      ],
      "metadata": {
        "id": "f51-kZFjYpHV"
      }
    },
    {
      "cell_type": "code",
      "source": [
        "import albumentations as aug\n",
        "\n",
        "train_augment = aug.Compose([\n",
        "    aug.Resize(IMAGE_SIZE, IMAGE_SIZE),\n",
        "    aug.HorizontalFlip(p=0.5),\n",
        "    aug.VerticalFlip(p=0.5),\n",
        "    aug.RandomBrightnessContrast(p=0.3)\n",
        "])\n",
        "\n",
        "test_augment = aug.Compose([\n",
        "    aug.Resize(IMAGE_SIZE, IMAGE_SIZE),\n",
        "    aug.RandomBrightnessContrast(p=0.3)\n",
        "])"
      ],
      "metadata": {
        "trusted": true,
        "id": "1gsKf33WYpHV"
      },
      "outputs": [],
      "execution_count": null
    },
    {
      "cell_type": "markdown",
      "source": [
        "# Creating Pytorch dataset"
      ],
      "metadata": {
        "id": "jQ4FLJFeYpHV"
      }
    },
    {
      "cell_type": "code",
      "source": [
        "from torch.utils.data import Dataset, DataLoader\n",
        "\n",
        "class SegmentationDataset(Dataset):\n",
        "    def __init__(self, df, augmentations=None):\n",
        "        self.df = df\n",
        "        self.augmentations = augmentations\n",
        "\n",
        "    def __len__(self):\n",
        "        return len(self.df)\n",
        "\n",
        "    def __getitem__(self, index: int):\n",
        "        row = self.df.iloc[index]\n",
        "\n",
        "        image = cv2.imread(row.IMAGES)\n",
        "        image = cv2.cvtColor(image, cv2.COLOR_BGR2RGB)\n",
        "\n",
        "        mask = cv2.imread(row.MASKS)\n",
        "        mask = cv2.cvtColor(mask, cv2.COLOR_BGR2RGB)\n",
        "\n",
        "        if self.augmentations:\n",
        "            data = self.augmentations(image=image, mask=mask)\n",
        "            image = data['image']\n",
        "            mask = data['mask']\n",
        "\n",
        "        mask = rgb2category(mask)\n",
        "\n",
        "        image = np.transpose(image, (2, 0, 1)).astype(np.float64)\n",
        "        mask = np.expand_dims(mask, axis=0)\n",
        "\n",
        "        image = torch.Tensor(image) / 255.0\n",
        "        mask = torch.Tensor(mask).long()\n",
        "\n",
        "        return image, mask"
      ],
      "metadata": {
        "trusted": true,
        "id": "6Nete8zsYpHV"
      },
      "outputs": [],
      "execution_count": null
    },
    {
      "cell_type": "code",
      "source": [
        "class SegmentationDataModule(pl.LightningDataModule):\n",
        "    def __init__(self, pd_train, pd_val, pd_test, batch_size=10):\n",
        "        super().__init__()\n",
        "        self.pd_train = pd_train\n",
        "        self.pd_val = pd_val\n",
        "        self.pd_test = pd_test\n",
        "        self.batch_size=batch_size\n",
        "\n",
        "    def setup(self, stage=None):\n",
        "        self.train_dataset = SegmentationDataset(self.pd_train, train_augment)\n",
        "        self.val_dataset = SegmentationDataset(self.pd_val, test_augment)\n",
        "        self.test_dataset = SegmentationDataset(self.pd_test, test_augment)\n",
        "\n",
        "    def train_dataloader(self):\n",
        "        return DataLoader(self.train_dataset, batch_size=self.batch_size, shuffle=True, num_workers=3)\n",
        "\n",
        "    def val_dataloader(self):\n",
        "        return DataLoader(self.val_dataset, batch_size=self.batch_size // 2, shuffle=False, num_workers=1)\n",
        "\n",
        "    def test_dataloader(self):\n",
        "        return DataLoader(self.test_dataset, batch_size=self.batch_size // 2, shuffle=False, num_workers=1)"
      ],
      "metadata": {
        "trusted": true,
        "id": "m1mNAMGdYpHW"
      },
      "outputs": [],
      "execution_count": null
    },
    {
      "cell_type": "code",
      "source": [
        "data_module = SegmentationDataModule(pd_train, pd_val, pd_test, batch_size=BATCH_SIZE)\n",
        "data_module.setup()"
      ],
      "metadata": {
        "trusted": true,
        "id": "AL2fPQtsYpHW"
      },
      "outputs": [],
      "execution_count": null
    },
    {
      "cell_type": "code",
      "source": [
        "image, mask = next(iter(data_module.train_dataloader()))\n",
        "image.shape, mask.shape"
      ],
      "metadata": {
        "trusted": true,
        "id": "t58S51DDYpHX"
      },
      "outputs": [],
      "execution_count": null
    },
    {
      "cell_type": "markdown",
      "source": [
        "# Build loss and model"
      ],
      "metadata": {
        "id": "rkpt_sFLYpHX"
      }
    },
    {
      "cell_type": "code",
      "source": [
        "from segmentation_models_pytorch import DeepLabV3Plus\n",
        "from segmentation_models_pytorch.losses import DiceLoss\n",
        "from segmentation_models_pytorch.metrics import get_stats, iou_score, accuracy, precision, recall, f1_score\n",
        "\n",
        "class SegmentationModel(pl.LightningModule):\n",
        "    def __init__(self):\n",
        "        super().__init__()\n",
        "        self.model = DeepLabV3Plus(\n",
        "            encoder_name=\"timm-mobilenetv3_large_100\",\n",
        "            encoder_weights=\"imagenet\",\n",
        "            #in_channels=3,\n",
        "            classes=len(CLASSES),\n",
        "            activation=\"softmax\"\n",
        "        )\n",
        "        self.criterion = DiceLoss(mode=\"multiclass\", from_logits=False)\n",
        "\n",
        "    def forward(self, inputs, targets=None):\n",
        "        outputs = self.model(inputs)\n",
        "        if targets is not None:\n",
        "            loss = self.criterion(outputs, targets)\n",
        "            tp, fp, fn, tn = get_stats(outputs.argmax(dim=1).unsqueeze(1).type(torch.int64), targets, mode='multiclass', num_classes=len(CLASSES))\n",
        "            metrics = {\n",
        "                \"Accuracy\": accuracy(tp, fp, fn, tn, reduction=\"micro-imagewise\"),\n",
        "                \"IoU\": iou_score(tp, fp, fn, tn, reduction=\"micro-imagewise\"),\n",
        "                \"Precision\": precision(tp, fp, fn, tn, reduction=\"micro-imagewise\"),\n",
        "                \"Recall\": recall(tp, fp, fn, tn, reduction=\"micro-imagewise\"),\n",
        "                \"F1score\": f1_score(tp, fp, fn, tn, reduction=\"micro-imagewise\")\n",
        "            }\n",
        "            return loss, metrics, outputs\n",
        "        else:\n",
        "            return outputs\n",
        "\n",
        "    def configure_optimizers(self):\n",
        "        return torch.optim.AdamW(self.parameters(), lr=0.0001)\n",
        "\n",
        "    def training_step(self, batch, batch_idx):\n",
        "        images, masks = batch\n",
        "\n",
        "        loss, metrics, outputs = self(images, masks)\n",
        "        self.log_dict({\n",
        "            \"train/Loss\": loss,\n",
        "            \"train/IoU\": metrics['IoU'],\n",
        "            \"train/Accuracy\": metrics['Accuracy'],\n",
        "            \"train/Precision\": metrics['Precision'],\n",
        "            \"train/Recall\": metrics['Recall'],\n",
        "            \"train/F1score\": metrics['F1score']\n",
        "        }, prog_bar=True, logger=True, on_step=False, on_epoch=True)\n",
        "        return loss\n",
        "\n",
        "    def validation_step(self, batch, batch_idx):\n",
        "        images, masks = batch\n",
        "\n",
        "        loss, metrics, outputs = self(images, masks)\n",
        "        self.log_dict({\n",
        "            \"val/Loss\": loss,\n",
        "            \"val/IoU\": metrics['IoU'],\n",
        "            \"val/Accuracy\": metrics['Accuracy'],\n",
        "            \"val/Precision\": metrics['Precision'],\n",
        "            \"val/Recall\": metrics['Recall'],\n",
        "            \"val/F1score\": metrics['F1score']\n",
        "        }, prog_bar=True, logger=True, on_step=False, on_epoch=True)\n",
        "        return loss\n",
        "\n",
        "    def test_step(self, batch, batch_idx):\n",
        "        images, masks = batch\n",
        "\n",
        "        loss, metrics, outputs = self(images, masks)\n",
        "        self.log_dict({\n",
        "            \"test/Loss\": loss,\n",
        "            \"test/IoU\": metrics['IoU'],\n",
        "            \"test/Accuracy\": metrics['Accuracy'],\n",
        "            \"test/Precision\": metrics['Precision'],\n",
        "            \"test/Recall\": metrics['Recall'],\n",
        "            \"test/F1score\": metrics['F1score']\n",
        "        }, prog_bar=True, logger=True, on_step=False, on_epoch=True)\n",
        "        return loss"
      ],
      "metadata": {
        "trusted": true,
        "id": "zvH1K114YpHX"
      },
      "outputs": [],
      "execution_count": null
    },
    {
      "cell_type": "code",
      "source": [
        "from torchinfo import summary\n",
        "\n",
        "model = SegmentationModel()\n",
        "summary(model, input_size=(BATCH_SIZE, 3, IMAGE_SIZE, IMAGE_SIZE))"
      ],
      "metadata": {
        "trusted": true,
        "id": "9a6keSZGYpHX"
      },
      "outputs": [],
      "execution_count": null
    },
    {
      "cell_type": "markdown",
      "source": [
        "# Training"
      ],
      "metadata": {
        "id": "C-MnmYU5YpHX"
      }
    },
    {
      "cell_type": "code",
      "source": [
        "from pytorch_lightning.callbacks import ModelCheckpoint, EarlyStopping\n",
        "from pytorch_lightning.loggers import CSVLogger\n",
        "\n",
        "checkpoint_callback = ModelCheckpoint(\n",
        "    dirpath=\"checkpoints\",\n",
        "    filename=\"best-checkpoint\",\n",
        "    save_top_k=1,\n",
        "    verbose=True,\n",
        "    monitor=\"val/F1score\",\n",
        "    mode=\"min\"\n",
        ")\n",
        "\n",
        "logger = CSVLogger(\"lightning_logs\", name=\"landcover-classification-log\")\n",
        "\n",
        "#early_stopping_callback = EarlyStopping(monitor=\"val/Accuracy\", patience=5)\n",
        "\n",
        "trainer = pl.Trainer(\n",
        "    logger=logger,\n",
        "    log_every_n_steps=1,\n",
        "    callbacks=[checkpoint_callback],\n",
        "    max_epochs=EPOCHS,\n",
        "    accelerator=\"gpu\",\n",
        "    devices=1\n",
        ")"
      ],
      "metadata": {
        "trusted": true,
        "id": "txoPHKu9YpHX"
      },
      "outputs": [],
      "execution_count": null
    },
    {
      "cell_type": "code",
      "source": [
        "import time\n",
        "\n",
        "start_time = time.time()\n",
        "model.eval()\n",
        "trainer.fit(model, data_module)\n",
        "print((time.time() - start_time)/float(60))"
      ],
      "metadata": {
        "trusted": true,
        "id": "r9voU5BqYpHX"
      },
      "outputs": [],
      "execution_count": null
    },
    {
      "cell_type": "markdown",
      "source": [
        "# Testing"
      ],
      "metadata": {
        "id": "J5nETTFsYpHX"
      }
    },
    {
      "cell_type": "code",
      "source": [
        "start_time = time.time()\n",
        "trainer.test(model, data_module)\n",
        "print((time.time() - start_time)/float(60))"
      ],
      "metadata": {
        "trusted": true,
        "id": "ZG_i6_MbYpHX"
      },
      "outputs": [],
      "execution_count": null
    },
    {
      "cell_type": "code",
      "source": [
        "import random\n",
        "\n",
        "# create test dataloader to be used with DeepLabV3+ model (with preprocessing operation: to_tensor(...))\n",
        "test_dataset = SegmentationDataset(\n",
        "    pd_unshuffle,\n",
        ")\n",
        "\n",
        "test_dataloader = DataLoader(test_dataset)\n",
        "\n",
        "# test dataset for visualization (without preprocessing augmentations & transformations)\n",
        "test_dataset_vis = SegmentationDataset(\n",
        "    pd_unshuffle,\n",
        ")\n",
        "\n",
        "# get a random test image/mask index\n",
        "random_idx = random.randint(0, len(test_dataset_vis)-1)\n",
        "image, mask = test_dataset_vis[random_idx]\n",
        "\n",
        "visualize(\n",
        "    original_image = image,\n",
        "    ground_truth_mask = mask,\n",
        ")"
      ],
      "metadata": {
        "trusted": true,
        "id": "OlbG_ZrNYpHX"
      },
      "outputs": [],
      "execution_count": null
    },
    {
      "cell_type": "markdown",
      "source": [
        "# Viewing and downloading the images"
      ],
      "metadata": {
        "id": "HCv3vzy4YpHX"
      }
    },
    {
      "cell_type": "code",
      "source": [
        "os.makedirs(\"./img_folder\")"
      ],
      "metadata": {
        "trusted": true,
        "id": "A3tICIjXYpHX"
      },
      "outputs": [],
      "execution_count": null
    },
    {
      "cell_type": "code",
      "source": [
        "best_model = model\n",
        "select_classes = ['clouds', 'shadow', 'nonforest', 'forest']\n",
        "\n",
        "best_model.eval()\n",
        "\n",
        "for idx in range(len(pd_unshuffle)):\n",
        "\n",
        "    image, gt_mask = test_dataset[idx]\n",
        "    image_vis = test_dataset_vis[idx][0]\n",
        "\n",
        "    gt_mask = cv2.imread(pd_unshuffle.iloc[idx].MASKS)\n",
        "    gt_mask = cv2.cvtColor(gt_mask, cv2.COLOR_BGR2RGB)\n",
        "    gt_mask = cv2.flip(gt_mask,1)\n",
        "    gt_mask = cv2.rotate(gt_mask, cv2.ROTATE_90_COUNTERCLOCKWISE)\n",
        "\n",
        "    x_tensor = (image).unsqueeze(0)\n",
        "\n",
        "    # Predict test image\n",
        "    pred_mask = best_model(x_tensor)\n",
        "    pred_mask = pred_mask.detach().squeeze().cpu().numpy()\n",
        "    # Convert pred_mask from `CHW` format to `HWC` format\n",
        "    pred_mask = np.transpose(pred_mask,(1,2,0))\n",
        "    pred_mask = cv2.flip(colour_code_segmentation(reverse_one_hot(pred_mask), select_class_rgb_values),1)\n",
        "    pred_mask = cv2.rotate(pred_mask, cv2.ROTATE_90_COUNTERCLOCKWISE)\n",
        "\n",
        "    cv2.imwrite(\"./img_folder/img\"+str(idx)+\".png\", pred_mask)"
      ],
      "metadata": {
        "trusted": true,
        "id": "PKQci3etYpHX"
      },
      "outputs": [],
      "execution_count": null
    },
    {
      "cell_type": "markdown",
      "source": [
        "# Check metrics"
      ],
      "metadata": {
        "id": "Dp8DM5dNYpHX"
      }
    },
    {
      "cell_type": "code",
      "source": [
        "metrics = pd.read_csv(\"./lightning_logs/landcover-classification-log/version_0/metrics.csv\")\n",
        "fig, ((ax1, ax2, ax3), (ax4, ax5, ax6)) = plt.subplots(2, 3, figsize=(18, 10))\n",
        "\n",
        "axes = [ax1, ax2, ax3, ax4, ax5, ax6]\n",
        "names = ['Loss', 'IoU', 'Accuracy', 'Precision', 'Recall', 'F1score']\n",
        "\n",
        "for axis, name in zip(axes, names):\n",
        "    axis.plot(metrics[f'train/{name}'].dropna())\n",
        "    axis.plot(metrics[f'val/{name}'].dropna())\n",
        "    axis.set_title(f'{name}: Train/Val')\n",
        "    axis.set_ylabel(name)\n",
        "    axis.set_xlabel('Epoch')\n",
        "    ax1.legend(['training', 'validation'], loc=\"upper right\")"
      ],
      "metadata": {
        "trusted": true,
        "id": "gRcdW--3YpHX"
      },
      "outputs": [],
      "execution_count": null
    },
    {
      "cell_type": "markdown",
      "source": [
        "# Download data"
      ],
      "metadata": {
        "id": "14ULtYI9YpHX"
      }
    },
    {
      "cell_type": "code",
      "source": [
        "!zip -r file.zip /kaggle/working"
      ],
      "metadata": {
        "trusted": true,
        "id": "SY-d_JncYpHX"
      },
      "outputs": [],
      "execution_count": null
    },
    {
      "cell_type": "code",
      "source": [
        "!ls"
      ],
      "metadata": {
        "trusted": true,
        "id": "OqCX3sn9YpHX"
      },
      "outputs": [],
      "execution_count": null
    },
    {
      "cell_type": "code",
      "source": [
        "from IPython.display import FileLink\n",
        "FileLink(r'file.zip')"
      ],
      "metadata": {
        "trusted": true,
        "id": "uJ3JH8u3YpHX"
      },
      "outputs": [],
      "execution_count": null
    }
  ]
}